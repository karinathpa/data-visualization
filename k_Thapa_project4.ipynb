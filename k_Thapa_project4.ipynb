{
 "cells": [
  {
   "cell_type": "markdown",
   "id": "9ccd42da",
   "metadata": {},
   "source": [
    "# DAV 5400 Project 4 (M13)\n",
    "\n",
    "\t\t\t\t\t\t\t\t\t\t\t\t\t\t\t\t\t\t\t\t"
   ]
  },
  {
   "cell_type": "markdown",
   "id": "90716076",
   "metadata": {},
   "source": [
    "### Introduction:\n",
    "\n",
    "The company gathered data about customers to whom they offered the new product. We are given information about\n",
    "whether they did or did not sign up for the new product, together with some customer information and information\n",
    "about their buying behavior of two other products (Product A and Product B).\n",
    "\n",
    "The purpose of this project is to determine the selected predictor columns that most accurately predicts whether or not a customer is likely to purchase an additional product. The objective is to analyze the data to understand different variables and their distributions.\n",
    "\n",
    "The company plans to use the output of such a model in an attempt to improve its customer retention and sales practices."
   ]
  },
  {
   "cell_type": "markdown",
   "id": "e253c33b",
   "metadata": {},
   "source": [
    "### Data Dictionary\n",
    "\n",
    "| Attribute  | Description |\n",
    "|---|---|\n",
    "| ID | Unique customer identifier |\n",
    "| TARGET Loyalty | Indicator of customer buying the new product (N = no, Y = yes) |\n",
    "| Age | Customer age in years |\n",
    "| City | Unique code per city (where the customer resides) |\n",
    "| Age_p | Age of customer’s partner in years |\n",
    "| LOR_m | Length of customer's relationship with company (in months) |\n",
    "| Prod_A | Customer previously bought Product A (0=no, 1=yes) |\n",
    "| Type_A | Type of product A |\n",
    "| Turnover_A | Amount of money customer spent on Product A\n",
    "| Prod_B | Customer previously bought Product B (0=no, 1=yes) |\n",
    "| Type_B | Type of product B |\n",
    "| Turnover_B | Amount of money customer spent on Product B"
   ]
  },
  {
   "cell_type": "markdown",
   "id": "928c0ca8",
   "metadata": {},
   "source": [
    "### Data Acquisition:\n",
    "\n",
    "The dataset file can be accessed from the following URL:\n",
    "https://raw.githubusercontent.com/karinathpa/DAV-5400/main/Project%204%20DATA.csv\n",
    "\n",
    "\n",
    "### Data Preparation:\n",
    "\n",
    "To start with, we will import the necessary libraries and read the dataset from the GitHub repository into a Jupyter Notebook."
   ]
  },
  {
   "cell_type": "code",
   "execution_count": 2,
   "id": "cbe48208",
   "metadata": {},
   "outputs": [],
   "source": [
    "# Importing libraries\n",
    "\n",
    "import pandas as pd\n",
    "import numpy as np\n",
    "import re\n",
    "import seaborn as sns\n",
    "import matplotlib.pyplot as plt\n",
    "\n",
    "\n",
    "# Import sklearn libraries\n",
    "\n",
    "from sklearn.linear_model import LogisticRegression\n",
    "from sklearn.model_selection import train_test_split\n",
    "from sklearn.metrics import accuracy_score\n",
    "\n",
    "# Notebook setting to display all the rows and columns .\n",
    "\n",
    "pd.set_option('display.max_rows', 500)\n",
    "pd.set_option('display.max_columns', 500)\n",
    "pd.set_option('display.width', 1000)\n",
    "pd.set_option('display.expand_frame_repr', False)\n",
    "pd.set_option('display.max_columns',None)\n",
    "\n",
    "# Ignoring warnings\n",
    "\n",
    "import warnings \n",
    "warnings.filterwarnings(\"ignore\")"
   ]
  },
  {
   "cell_type": "code",
   "execution_count": 3,
   "id": "2ce5374d",
   "metadata": {},
   "outputs": [
    {
     "data": {
      "text/html": [
       "<div>\n",
       "<style scoped>\n",
       "    .dataframe tbody tr th:only-of-type {\n",
       "        vertical-align: middle;\n",
       "    }\n",
       "\n",
       "    .dataframe tbody tr th {\n",
       "        vertical-align: top;\n",
       "    }\n",
       "\n",
       "    .dataframe thead th {\n",
       "        text-align: right;\n",
       "    }\n",
       "</style>\n",
       "<table border=\"1\" class=\"dataframe\">\n",
       "  <thead>\n",
       "    <tr style=\"text-align: right;\">\n",
       "      <th></th>\n",
       "      <th>TARGET</th>\n",
       "      <th>loyalty</th>\n",
       "      <th>ID</th>\n",
       "      <th>age</th>\n",
       "      <th>city</th>\n",
       "      <th>prod_A</th>\n",
       "      <th>type_A</th>\n",
       "      <th>type_B</th>\n",
       "      <th>prod_B</th>\n",
       "      <th>turnover_A</th>\n",
       "      <th>turnover_B</th>\n",
       "      <th>age_P</th>\n",
       "      <th>lor_M</th>\n",
       "    </tr>\n",
       "  </thead>\n",
       "  <tbody>\n",
       "    <tr>\n",
       "      <th>0</th>\n",
       "      <td>Y</td>\n",
       "      <td>99</td>\n",
       "      <td>77</td>\n",
       "      <td>66</td>\n",
       "      <td>2</td>\n",
       "      <td>0</td>\n",
       "      <td>0</td>\n",
       "      <td>0</td>\n",
       "      <td>0</td>\n",
       "      <td>333.561114</td>\n",
       "      <td>264.721010</td>\n",
       "      <td>66</td>\n",
       "      <td>3</td>\n",
       "    </tr>\n",
       "    <tr>\n",
       "      <th>1</th>\n",
       "      <td>Y</td>\n",
       "      <td>1</td>\n",
       "      <td>159</td>\n",
       "      <td>45</td>\n",
       "      <td>2</td>\n",
       "      <td>1</td>\n",
       "      <td>3</td>\n",
       "      <td>3</td>\n",
       "      <td>1</td>\n",
       "      <td>394.735699</td>\n",
       "      <td>284.904978</td>\n",
       "      <td>45</td>\n",
       "      <td>39</td>\n",
       "    </tr>\n",
       "    <tr>\n",
       "      <th>2</th>\n",
       "      <td>Y</td>\n",
       "      <td>1</td>\n",
       "      <td>220</td>\n",
       "      <td>42</td>\n",
       "      <td>2</td>\n",
       "      <td>1</td>\n",
       "      <td>3</td>\n",
       "      <td>6</td>\n",
       "      <td>1</td>\n",
       "      <td>342.180990</td>\n",
       "      <td>1175.589721</td>\n",
       "      <td>42</td>\n",
       "      <td>27</td>\n",
       "    </tr>\n",
       "    <tr>\n",
       "      <th>3</th>\n",
       "      <td>Y</td>\n",
       "      <td>99</td>\n",
       "      <td>303</td>\n",
       "      <td>31</td>\n",
       "      <td>2</td>\n",
       "      <td>0</td>\n",
       "      <td>0</td>\n",
       "      <td>0</td>\n",
       "      <td>0</td>\n",
       "      <td>453.757916</td>\n",
       "      <td>242.341754</td>\n",
       "      <td>31</td>\n",
       "      <td>3</td>\n",
       "    </tr>\n",
       "    <tr>\n",
       "      <th>4</th>\n",
       "      <td>Y</td>\n",
       "      <td>99</td>\n",
       "      <td>306</td>\n",
       "      <td>62</td>\n",
       "      <td>2</td>\n",
       "      <td>0</td>\n",
       "      <td>0</td>\n",
       "      <td>0</td>\n",
       "      <td>0</td>\n",
       "      <td>384.577469</td>\n",
       "      <td>287.008370</td>\n",
       "      <td>62</td>\n",
       "      <td>3</td>\n",
       "    </tr>\n",
       "  </tbody>\n",
       "</table>\n",
       "</div>"
      ],
      "text/plain": [
       "  TARGET  loyalty   ID  age  city  prod_A  type_A  type_B  prod_B  turnover_A   turnover_B  age_P  lor_M\n",
       "0      Y       99   77   66     2       0       0       0       0  333.561114   264.721010     66      3\n",
       "1      Y        1  159   45     2       1       3       3       1  394.735699   284.904978     45     39\n",
       "2      Y        1  220   42     2       1       3       6       1  342.180990  1175.589721     42     27\n",
       "3      Y       99  303   31     2       0       0       0       0  453.757916   242.341754     31      3\n",
       "4      Y       99  306   62     2       0       0       0       0  384.577469   287.008370     62      3"
      ]
     },
     "execution_count": 3,
     "metadata": {},
     "output_type": "execute_result"
    }
   ],
   "source": [
    "# Read the dataset from the GitHub repository\n",
    "\n",
    "url = 'https://raw.githubusercontent.com/karinathpa/DAV-5400/main/Project%204%20DATA.csv'\n",
    "df = pd.read_csv(url)\n",
    "\n",
    "# Display the first five rows of the dataset\n",
    "\n",
    "df.head()"
   ]
  },
  {
   "cell_type": "code",
   "execution_count": 4,
   "id": "ab227efb",
   "metadata": {},
   "outputs": [
    {
     "name": "stdout",
     "output_type": "stream",
     "text": [
      "<class 'pandas.core.frame.DataFrame'>\n",
      "RangeIndex: 14016 entries, 0 to 14015\n",
      "Data columns (total 13 columns):\n",
      " #   Column      Non-Null Count  Dtype  \n",
      "---  ------      --------------  -----  \n",
      " 0   TARGET      14016 non-null  object \n",
      " 1   loyalty     14016 non-null  int64  \n",
      " 2   ID          14016 non-null  int64  \n",
      " 3   age         14016 non-null  int64  \n",
      " 4   city        14016 non-null  int64  \n",
      " 5   prod_A      14016 non-null  int64  \n",
      " 6   type_A      14016 non-null  int64  \n",
      " 7   type_B      14016 non-null  int64  \n",
      " 8   prod_B      14016 non-null  int64  \n",
      " 9   turnover_A  14016 non-null  float64\n",
      " 10  turnover_B  14016 non-null  float64\n",
      " 11  age_P       14016 non-null  int64  \n",
      " 12  lor_M       14016 non-null  int64  \n",
      "dtypes: float64(2), int64(10), object(1)\n",
      "memory usage: 1.4+ MB\n"
     ]
    }
   ],
   "source": [
    "df.info() # Checking the data for any null values"
   ]
  },
  {
   "cell_type": "markdown",
   "id": "153fb1b8",
   "metadata": {},
   "source": [
    "#### Details\n",
    "\n",
    "- By info() we can se the summary of the dataframe.\n",
    "- We can see there are 13 columns with index starting from 0 to 12.\n",
    "- Got the data types of each columns\n",
    "- There are total 14016 rows in the dataframe.\n",
    "- Each column has no null values.\n",
    "- We can also see the data types of each column.\n",
    "\n",
    "-----------------"
   ]
  },
  {
   "cell_type": "code",
   "execution_count": 5,
   "id": "a38bf51c",
   "metadata": {},
   "outputs": [
    {
     "data": {
      "text/html": [
       "<div>\n",
       "<style scoped>\n",
       "    .dataframe tbody tr th:only-of-type {\n",
       "        vertical-align: middle;\n",
       "    }\n",
       "\n",
       "    .dataframe tbody tr th {\n",
       "        vertical-align: top;\n",
       "    }\n",
       "\n",
       "    .dataframe thead th {\n",
       "        text-align: right;\n",
       "    }\n",
       "</style>\n",
       "<table border=\"1\" class=\"dataframe\">\n",
       "  <thead>\n",
       "    <tr style=\"text-align: right;\">\n",
       "      <th></th>\n",
       "      <th>loyalty</th>\n",
       "      <th>ID</th>\n",
       "      <th>age</th>\n",
       "      <th>city</th>\n",
       "      <th>prod_A</th>\n",
       "      <th>type_A</th>\n",
       "      <th>type_B</th>\n",
       "      <th>prod_B</th>\n",
       "      <th>turnover_A</th>\n",
       "      <th>turnover_B</th>\n",
       "      <th>age_P</th>\n",
       "      <th>lor_M</th>\n",
       "    </tr>\n",
       "  </thead>\n",
       "  <tbody>\n",
       "    <tr>\n",
       "      <th>count</th>\n",
       "      <td>14016.000000</td>\n",
       "      <td>14016.000000</td>\n",
       "      <td>14016.000000</td>\n",
       "      <td>14016.000000</td>\n",
       "      <td>14016.000000</td>\n",
       "      <td>14016.000000</td>\n",
       "      <td>14016.000000</td>\n",
       "      <td>14016.000000</td>\n",
       "      <td>14016.000000</td>\n",
       "      <td>14016.000000</td>\n",
       "      <td>14016.000000</td>\n",
       "      <td>14016.000000</td>\n",
       "    </tr>\n",
       "    <tr>\n",
       "      <th>mean</th>\n",
       "      <td>50.381778</td>\n",
       "      <td>37672.440068</td>\n",
       "      <td>35.882920</td>\n",
       "      <td>-710.950128</td>\n",
       "      <td>0.533818</td>\n",
       "      <td>1.607877</td>\n",
       "      <td>1.918878</td>\n",
       "      <td>0.599458</td>\n",
       "      <td>379.161320</td>\n",
       "      <td>328.628207</td>\n",
       "      <td>35.882920</td>\n",
       "      <td>14.115582</td>\n",
       "    </tr>\n",
       "    <tr>\n",
       "      <th>std</th>\n",
       "      <td>48.471790</td>\n",
       "      <td>44855.639209</td>\n",
       "      <td>12.974634</td>\n",
       "      <td>26702.329184</td>\n",
       "      <td>0.498873</td>\n",
       "      <td>1.508991</td>\n",
       "      <td>1.686038</td>\n",
       "      <td>0.490026</td>\n",
       "      <td>92.612207</td>\n",
       "      <td>475.616525</td>\n",
       "      <td>12.974634</td>\n",
       "      <td>11.582550</td>\n",
       "    </tr>\n",
       "    <tr>\n",
       "      <th>min</th>\n",
       "      <td>0.000000</td>\n",
       "      <td>1.000000</td>\n",
       "      <td>5.000000</td>\n",
       "      <td>-999999.000000</td>\n",
       "      <td>0.000000</td>\n",
       "      <td>0.000000</td>\n",
       "      <td>0.000000</td>\n",
       "      <td>0.000000</td>\n",
       "      <td>300.095909</td>\n",
       "      <td>191.962852</td>\n",
       "      <td>5.000000</td>\n",
       "      <td>3.000000</td>\n",
       "    </tr>\n",
       "    <tr>\n",
       "      <th>25%</th>\n",
       "      <td>2.000000</td>\n",
       "      <td>6741.500000</td>\n",
       "      <td>25.000000</td>\n",
       "      <td>2.000000</td>\n",
       "      <td>0.000000</td>\n",
       "      <td>0.000000</td>\n",
       "      <td>0.000000</td>\n",
       "      <td>0.000000</td>\n",
       "      <td>334.919412</td>\n",
       "      <td>219.406925</td>\n",
       "      <td>25.000000</td>\n",
       "      <td>3.000000</td>\n",
       "    </tr>\n",
       "    <tr>\n",
       "      <th>50%</th>\n",
       "      <td>3.000000</td>\n",
       "      <td>13514.500000</td>\n",
       "      <td>33.000000</td>\n",
       "      <td>2.000000</td>\n",
       "      <td>1.000000</td>\n",
       "      <td>3.000000</td>\n",
       "      <td>3.000000</td>\n",
       "      <td>1.000000</td>\n",
       "      <td>367.891493</td>\n",
       "      <td>237.656757</td>\n",
       "      <td>33.000000</td>\n",
       "      <td>15.000000</td>\n",
       "    </tr>\n",
       "    <tr>\n",
       "      <th>75%</th>\n",
       "      <td>99.000000</td>\n",
       "      <td>62738.000000</td>\n",
       "      <td>43.000000</td>\n",
       "      <td>2.000000</td>\n",
       "      <td>1.000000</td>\n",
       "      <td>3.000000</td>\n",
       "      <td>3.000000</td>\n",
       "      <td>1.000000</td>\n",
       "      <td>399.744924</td>\n",
       "      <td>264.131538</td>\n",
       "      <td>43.000000</td>\n",
       "      <td>15.000000</td>\n",
       "    </tr>\n",
       "    <tr>\n",
       "      <th>max</th>\n",
       "      <td>99.000000</td>\n",
       "      <td>151811.000000</td>\n",
       "      <td>102.000000</td>\n",
       "      <td>235.000000</td>\n",
       "      <td>1.000000</td>\n",
       "      <td>6.000000</td>\n",
       "      <td>9.000000</td>\n",
       "      <td>1.000000</td>\n",
       "      <td>5568.784139</td>\n",
       "      <td>12249.084770</td>\n",
       "      <td>102.000000</td>\n",
       "      <td>75.000000</td>\n",
       "    </tr>\n",
       "  </tbody>\n",
       "</table>\n",
       "</div>"
      ],
      "text/plain": [
       "            loyalty             ID           age           city        prod_A        type_A        type_B        prod_B    turnover_A    turnover_B         age_P         lor_M\n",
       "count  14016.000000   14016.000000  14016.000000   14016.000000  14016.000000  14016.000000  14016.000000  14016.000000  14016.000000  14016.000000  14016.000000  14016.000000\n",
       "mean      50.381778   37672.440068     35.882920    -710.950128      0.533818      1.607877      1.918878      0.599458    379.161320    328.628207     35.882920     14.115582\n",
       "std       48.471790   44855.639209     12.974634   26702.329184      0.498873      1.508991      1.686038      0.490026     92.612207    475.616525     12.974634     11.582550\n",
       "min        0.000000       1.000000      5.000000 -999999.000000      0.000000      0.000000      0.000000      0.000000    300.095909    191.962852      5.000000      3.000000\n",
       "25%        2.000000    6741.500000     25.000000       2.000000      0.000000      0.000000      0.000000      0.000000    334.919412    219.406925     25.000000      3.000000\n",
       "50%        3.000000   13514.500000     33.000000       2.000000      1.000000      3.000000      3.000000      1.000000    367.891493    237.656757     33.000000     15.000000\n",
       "75%       99.000000   62738.000000     43.000000       2.000000      1.000000      3.000000      3.000000      1.000000    399.744924    264.131538     43.000000     15.000000\n",
       "max       99.000000  151811.000000    102.000000     235.000000      1.000000      6.000000      9.000000      1.000000   5568.784139  12249.084770    102.000000     75.000000"
      ]
     },
     "execution_count": 5,
     "metadata": {},
     "output_type": "execute_result"
    }
   ],
   "source": [
    "df.describe() # Generate descriptive statistics"
   ]
  },
  {
   "cell_type": "code",
   "execution_count": 5,
   "id": "d0a3e825",
   "metadata": {},
   "outputs": [
    {
     "data": {
      "text/plain": [
       "RangeIndex(start=0, stop=14016, step=1)"
      ]
     },
     "execution_count": 5,
     "metadata": {},
     "output_type": "execute_result"
    }
   ],
   "source": [
    "df.index # The index (row labels) of the DataFrame."
   ]
  },
  {
   "cell_type": "code",
   "execution_count": 6,
   "id": "e5adc796",
   "metadata": {},
   "outputs": [],
   "source": [
    "# Create a pandas DataFrame with a subset of columns\n",
    "\n",
    "df_subset = df[['TARGET', 'age', 'type_A', 'type_B', 'lor_M', 'turnover_A', 'turnover_B']]"
   ]
  },
  {
   "cell_type": "markdown",
   "id": "920de0db",
   "metadata": {},
   "source": [
    "- Next, we will convert the TARGET indicators in the first column to digits, with \"N\" becoming 0 and \"Y\" becoming 1."
   ]
  },
  {
   "cell_type": "code",
   "execution_count": 7,
   "id": "4ffd040a",
   "metadata": {},
   "outputs": [],
   "source": [
    "# Converting the TARGET indicators to digits\n",
    "\n",
    "df_subset['TARGET'] = df_subset['TARGET'].replace({'N': 0, 'Y': 1})"
   ]
  },
  {
   "cell_type": "markdown",
   "id": "cda3631c",
   "metadata": {},
   "source": [
    "### EDA \n",
    "\n",
    "#### Univariate\n",
    "\n",
    "- Let's see the distribution of data for each of the columns we selected, including the Age, Type_A, Type_B, lor_M columns."
   ]
  },
  {
   "cell_type": "code",
   "execution_count": 8,
   "id": "6245700b",
   "metadata": {},
   "outputs": [
    {
     "data": {
      "image/png": "[encoded data removed]",
      "text/plain": [
       "<Figure size 1080x1440 with 8 Axes>"
      ]
     },
     "metadata": {
      "needs_background": "light"
     },
     "output_type": "display_data"
    }
   ],
   "source": [
    "# Distribution of data for each of the selected columns\n",
    "\n",
    "fig, axs = plt.subplots(4, 2, figsize=(15, 20)) # Setting the subplots rows & columns\n",
    "sns.histplot(data=df_subset, x='age', ax=axs[0, 0]) # Histogram plot\n",
    "sns.countplot(data=df_subset, x='type_A', ax=axs[0, 1]) # Count plot\n",
    "sns.countplot(data=df_subset, x='type_B', ax=axs[1, 0]) # Count plot\n",
    "sns.histplot(data=df_subset, x='lor_M', ax=axs[1, 1]) # Histogram plot\n",
    "sns.histplot(data=df_subset, x='turnover_A', ax=axs[2, 0]) # Histogram plot\n",
    "sns.histplot(data=df_subset, x='turnover_B', ax=axs[2, 1]) # Histogram plot\n",
    "sns.countplot(data=df_subset, x='TARGET', ax=axs[3, 0]) # Countplot plot\n",
    "plt.show()"
   ]
  },
  {
   "cell_type": "markdown",
   "id": "9a8d9ffe",
   "metadata": {},
   "source": [
    "### Inferences:\n",
    "\n",
    "- Customers of age between 20-40 seems to be more active in buying products\n",
    "- Customers mostly prefer product type '3' from both the product types i.e., 'A' & 'B'\n",
    "- Customers who buy mostly have a tenurity between 3 to 15\n",
    "- The amount of money customers spent of 'Product A' is more than 'Product B' which can be concluded w.r.t to the density from both the graphs\n",
    "- The amount of customers not buying the product is more than buying irrespective of all product types"
   ]
  },
  {
   "cell_type": "markdown",
   "id": "821b39f2",
   "metadata": {},
   "source": [
    "## Bivariate\n",
    "\n",
    "- Now between TARGET vs. Age, TARGET vs. Type_A, TARGET vs. Type_B, TARGET vs. lor_M, as well as the other columns that we selected."
   ]
  },
  {
   "cell_type": "markdown",
   "id": "fef5f0b2",
   "metadata": {},
   "source": [
    "### Plot for TARGET Vs Age"
   ]
  },
  {
   "cell_type": "code",
   "execution_count": 9,
   "id": "0d0355f6",
   "metadata": {},
   "outputs": [
    {
     "data": {
      "image/png": "[encoded data removed]",
      "text/plain": [
       "<Figure size 432x288 with 1 Axes>"
      ]
     },
     "metadata": {
      "needs_background": "light"
     },
     "output_type": "display_data"
    }
   ],
   "source": [
    "# TARGET Vs Age Plot\n",
    "\n",
    "sns.boxplot(data=df_subset, x='TARGET', y='age') # Boxplot for target & age columns\n",
    "\n",
    "plt.title('TARGET Vs Age', fontsize=16)\n",
    "plt.xlabel('TARGET', fontsize=12) \n",
    "plt.ylabel('Age', fontsize=12)\n",
    "plt.show()"
   ]
  },
  {
   "cell_type": "markdown",
   "id": "0a1ca966",
   "metadata": {},
   "source": [
    "#### Inferences\n",
    "\n",
    "- The median age for a customer buying a new product is 40\n",
    "- The above boxplot is rightly skewed & has outliers\n",
    "- Target variable '0' has a wider interquartile range (IQR) as compared to target '1', indicating greater variability in the ages of target '0'."
   ]
  },
  {
   "cell_type": "code",
   "execution_count": 10,
   "id": "887e79ce",
   "metadata": {},
   "outputs": [
    {
     "data": {
      "text/html": [
       "<div>\n",
       "<style scoped>\n",
       "    .dataframe tbody tr th:only-of-type {\n",
       "        vertical-align: middle;\n",
       "    }\n",
       "\n",
       "    .dataframe tbody tr th {\n",
       "        vertical-align: top;\n",
       "    }\n",
       "\n",
       "    .dataframe thead th {\n",
       "        text-align: right;\n",
       "    }\n",
       "</style>\n",
       "<table border=\"1\" class=\"dataframe\">\n",
       "  <thead>\n",
       "    <tr style=\"text-align: right;\">\n",
       "      <th>TARGET</th>\n",
       "      <th>0</th>\n",
       "      <th>1</th>\n",
       "    </tr>\n",
       "    <tr>\n",
       "      <th>type_A</th>\n",
       "      <th></th>\n",
       "      <th></th>\n",
       "    </tr>\n",
       "  </thead>\n",
       "  <tbody>\n",
       "    <tr>\n",
       "      <th>0</th>\n",
       "      <td>2616</td>\n",
       "      <td>3918</td>\n",
       "    </tr>\n",
       "    <tr>\n",
       "      <th>3</th>\n",
       "      <td>5368</td>\n",
       "      <td>2084</td>\n",
       "    </tr>\n",
       "    <tr>\n",
       "      <th>6</th>\n",
       "      <td>16</td>\n",
       "      <td>14</td>\n",
       "    </tr>\n",
       "  </tbody>\n",
       "</table>\n",
       "</div>"
      ],
      "text/plain": [
       "TARGET     0     1\n",
       "type_A            \n",
       "0       2616  3918\n",
       "3       5368  2084\n",
       "6         16    14"
      ]
     },
     "execution_count": 10,
     "metadata": {},
     "output_type": "execute_result"
    }
   ],
   "source": [
    "count_type_A = df_subset.groupby(['type_A', 'TARGET']).size().reset_index(name='count') # Grouping the columns for size\n",
    "pivot_count_type_A = count_type_A.pivot(index='type_A', columns='TARGET', values='count') # Pivoting the columns\n",
    "\n",
    "pivot_count_type_A # Eyeballing the data"
   ]
  },
  {
   "cell_type": "markdown",
   "id": "15c334de",
   "metadata": {},
   "source": [
    "### Plot for TARGET Vs Type_A"
   ]
  },
  {
   "cell_type": "code",
   "execution_count": 11,
   "id": "7d697386",
   "metadata": {},
   "outputs": [
    {
     "data": {
      "image/png": "[encoded data removed]",
      "text/plain": [
       "<Figure size 576x432 with 1 Axes>"
      ]
     },
     "metadata": {},
     "output_type": "display_data"
    }
   ],
   "source": [
    "# TARGET Vs Type_A Plot\n",
    "\n",
    "sns.set_style('whitegrid') # Setting the style for the plot\n",
    "plt.figure(figsize=(8,6)) # Setting the figure size\n",
    "sns.countplot(x='type_A', hue='TARGET', data=df_subset) # Countplot for TARGET Vs Type_A columns\n",
    "plt.title('Distribution of TARGET by Product Type_A', fontsize=14)\n",
    "plt.xlabel('Product Type', fontsize=12)\n",
    "plt.ylabel('Count', fontsize=12)\n",
    "plt.legend(title='TARGET', fontsize=12) # legend within the plot for TARGET column\n",
    "plt.show()"
   ]
  },
  {
   "cell_type": "markdown",
   "id": "06e99b0d",
   "metadata": {},
   "source": [
    "#### Inferences\n",
    "\n",
    "- The most frequent product type is '3 followed by '0'.\n",
    "- The plot also suggest that the customers possibility of buying a new product is more for product type '0' than product type '3'.\n",
    "- The product type '6' is chosen by too few customers"
   ]
  },
  {
   "cell_type": "code",
   "execution_count": 12,
   "id": "2a70b5ab",
   "metadata": {},
   "outputs": [
    {
     "data": {
      "text/html": [
       "<div>\n",
       "<style scoped>\n",
       "    .dataframe tbody tr th:only-of-type {\n",
       "        vertical-align: middle;\n",
       "    }\n",
       "\n",
       "    .dataframe tbody tr th {\n",
       "        vertical-align: top;\n",
       "    }\n",
       "\n",
       "    .dataframe thead th {\n",
       "        text-align: right;\n",
       "    }\n",
       "</style>\n",
       "<table border=\"1\" class=\"dataframe\">\n",
       "  <thead>\n",
       "    <tr style=\"text-align: right;\">\n",
       "      <th>TARGET</th>\n",
       "      <th>0</th>\n",
       "      <th>1</th>\n",
       "    </tr>\n",
       "    <tr>\n",
       "      <th>type_B</th>\n",
       "      <th></th>\n",
       "      <th></th>\n",
       "    </tr>\n",
       "  </thead>\n",
       "  <tbody>\n",
       "    <tr>\n",
       "      <th>0</th>\n",
       "      <td>2042</td>\n",
       "      <td>3572</td>\n",
       "    </tr>\n",
       "    <tr>\n",
       "      <th>3</th>\n",
       "      <td>5516</td>\n",
       "      <td>2358</td>\n",
       "    </tr>\n",
       "    <tr>\n",
       "      <th>6</th>\n",
       "      <td>411</td>\n",
       "      <td>82</td>\n",
       "    </tr>\n",
       "    <tr>\n",
       "      <th>9</th>\n",
       "      <td>31</td>\n",
       "      <td>4</td>\n",
       "    </tr>\n",
       "  </tbody>\n",
       "</table>\n",
       "</div>"
      ],
      "text/plain": [
       "TARGET     0     1\n",
       "type_B            \n",
       "0       2042  3572\n",
       "3       5516  2358\n",
       "6        411    82\n",
       "9         31     4"
      ]
     },
     "execution_count": 12,
     "metadata": {},
     "output_type": "execute_result"
    }
   ],
   "source": [
    "count_type_B = df_subset.groupby(['type_B', 'TARGET']).size().reset_index(name='count') # Grouping the columns for size\n",
    "pivot_count_type_B = count_type_B.pivot(index='type_B', columns='TARGET', values='count')  # Pivoting the columns\n",
    "\n",
    "pivot_count_type_B # Eyeballing the data"
   ]
  },
  {
   "cell_type": "markdown",
   "id": "7d1f5941",
   "metadata": {},
   "source": [
    "### Plot for TARGET Vs Type_B"
   ]
  },
  {
   "cell_type": "code",
   "execution_count": 13,
   "id": "23d2f917",
   "metadata": {},
   "outputs": [
    {
     "data": {
      "image/png": "[encoded data removed]",
      "text/plain": [
       "<Figure size 576x432 with 1 Axes>"
      ]
     },
     "metadata": {},
     "output_type": "display_data"
    }
   ],
   "source": [
    "# TARGET Vs Type_B\n",
    "\n",
    "sns.set_style('whitegrid')  # Setting the style for the plot\n",
    "plt.figure(figsize=(8,6))  # Setting the figure size\n",
    "sns.countplot(x='type_B', hue='TARGET', data=df_subset) # Countplot for TARGET Vs Type_B columns\n",
    "plt.title('Distribution of TARGET by Product Type_B', fontsize=14)\n",
    "plt.xlabel('Product Type', fontsize=12)\n",
    "plt.ylabel('Count', fontsize=12)\n",
    "plt.legend(title='TARGET', fontsize=12) # legend within the plot for TARGET column\n",
    "plt.show()"
   ]
  },
  {
   "cell_type": "markdown",
   "id": "df3fef18",
   "metadata": {},
   "source": [
    "#### Inferences\n",
    "\n",
    "- The most frequent product type is '3 followed by '0'.\n",
    "- The plot also suggest that the customers possibility of buying a new product is more for product type '0' than product type '3'.\n",
    "- The product types '6' & '9' are chosen by too few customers"
   ]
  },
  {
   "cell_type": "markdown",
   "id": "0b0b0b7e",
   "metadata": {},
   "source": [
    "### Plot for TARGET Vs lor_M"
   ]
  },
  {
   "cell_type": "code",
   "execution_count": 14,
   "id": "7d8dc279",
   "metadata": {},
   "outputs": [
    {
     "data": {
      "image/png": "[encoded data removed]",
      "text/plain": [
       "<Figure size 576x432 with 1 Axes>"
      ]
     },
     "metadata": {},
     "output_type": "display_data"
    }
   ],
   "source": [
    "# TARGET Vs lor_M Plot\n",
    "\n",
    "sns.set_style('whitegrid') # Setting the style for the plot\n",
    "plt.figure(figsize=(8,6)) # Setting the figure size\n",
    "sns.countplot(x='lor_M', hue='TARGET', data=df_subset)\n",
    "plt.title('Distribution of TARGET by lor_M', fontsize=14) # Countplot for TARGET Vs lor_M columns\n",
    "plt.xlabel('lor_M', fontsize=12) \n",
    "plt.ylabel('Count', fontsize=12)\n",
    "plt.legend(title='TARGET', fontsize=12) # legend within the plot for TARGET column\n",
    "plt.show()"
   ]
  },
  {
   "cell_type": "markdown",
   "id": "fe25d3c0",
   "metadata": {},
   "source": [
    "#### Inferences\n",
    "\n",
    "- Customers who buy a product is high for '3' months of tenurity followed by '15', '27' and gradually decreases.\n",
    "- Customers who do not buy a product is high for '15' months of tenurity followed by '3', '27' and gradually decreases."
   ]
  },
  {
   "cell_type": "markdown",
   "id": "e57c1f95",
   "metadata": {},
   "source": [
    "### Plot for TARGET Vs turnover_A"
   ]
  },
  {
   "cell_type": "code",
   "execution_count": 15,
   "id": "53ad9b32",
   "metadata": {},
   "outputs": [
    {
     "data": {
      "image/png": "[encoded data removed]",
      "text/plain": [
       "<Figure size 432x288 with 1 Axes>"
      ]
     },
     "metadata": {},
     "output_type": "display_data"
    }
   ],
   "source": [
    "# TARGET Vs turnover_A Plot\n",
    "\n",
    "count_df = df_subset.groupby('TARGET')['turnover_A'].size().reset_index(name='count') # Grouping the columns for size\n",
    "\n",
    "sns.barplot(x='TARGET', y='count', data=count_df) # Barplot for TARGET and count\n",
    "plt.title('Distribution of TARGET by turnover_A', fontsize=14) # Plot's title\n",
    "plt.xlabel('TARGET')\n",
    "plt.ylabel('Count of turnover_A')\n",
    "plt.show()"
   ]
  },
  {
   "cell_type": "code",
   "execution_count": 16,
   "id": "5de6047d",
   "metadata": {},
   "outputs": [
    {
     "data": {
      "image/png": "[encoded data removed]",
      "text/plain": [
       "<Figure size 432x288 with 1 Axes>"
      ]
     },
     "metadata": {},
     "output_type": "display_data"
    }
   ],
   "source": [
    "sns.boxplot(x='TARGET', y='turnover_A', data=df_subset) # Boxplot for TARGET and turnover_A\n",
    "plt.title('Distribution of TARGET by turnover_A', fontsize=14) # Plot's title\n",
    "plt.xlabel('TARGET')\n",
    "plt.ylabel('Count of turnover_A')\n",
    "plt.show()"
   ]
  },
  {
   "cell_type": "markdown",
   "id": "77c9cd52",
   "metadata": {},
   "source": [
    "#### Inferences\n",
    "\n",
    "- Amount of money customer spent on Product A is higher where Indicator of customer buying the new product is no/0\n",
    "- The boxplot between TARGET Vs turnover_A seems to have a lot fo outliers"
   ]
  },
  {
   "cell_type": "markdown",
   "id": "7e783094",
   "metadata": {},
   "source": [
    "### Plot for TARGET Vs turnover_B"
   ]
  },
  {
   "cell_type": "code",
   "execution_count": 17,
   "id": "04c1f04e",
   "metadata": {},
   "outputs": [
    {
     "data": {
      "image/png": "[encoded data removed]",
      "text/plain": [
       "<Figure size 432x288 with 1 Axes>"
      ]
     },
     "metadata": {},
     "output_type": "display_data"
    }
   ],
   "source": [
    "# TARGET Vs turnover_B Plot\n",
    "\n",
    "count_df = df_subset.groupby('TARGET')['turnover_B'].size().reset_index(name='count') # Grouping the columns for size\n",
    "\n",
    "sns.barplot(x='TARGET', y='count', data=count_df)  # Barplot for TARGET and count\n",
    "plt.title('Distribution of TARGET by turnover_B', fontsize=14) # Plot's title\n",
    "plt.xlabel('TARGET')\n",
    "plt.ylabel('Count of turnover_B')\n",
    "plt.show()"
   ]
  },
  {
   "cell_type": "code",
   "execution_count": 18,
   "id": "86785b6b",
   "metadata": {},
   "outputs": [
    {
     "data": {
      "image/png": "[encoded data removed]",
      "text/plain": [
       "<Figure size 432x288 with 1 Axes>"
      ]
     },
     "metadata": {},
     "output_type": "display_data"
    }
   ],
   "source": [
    "# TARGET Vs turnover_B\n",
    "\n",
    "sns.boxplot(x='TARGET', y='turnover_B', data=df_subset) # Boxplot for TARGET and turnover_A\n",
    "plt.xlabel('TARGET')\n",
    "plt.ylabel('Count of turnover_B')\n",
    "plt.title('Distribution of TARGET by turnover_B', fontsize=14) # Plot's title\n",
    "plt.show()"
   ]
  },
  {
   "cell_type": "markdown",
   "id": "6e71a414",
   "metadata": {},
   "source": [
    "#### Inferences\n",
    "\n",
    "- Amount of money customer spent on Product B is higher where Indicator of customer buying the new product is no/0\n",
    "- The boxplot between TARGET Vs turnover_A seems to have a lot fo outliers"
   ]
  },
  {
   "cell_type": "code",
   "execution_count": 19,
   "id": "0ac50a0c",
   "metadata": {},
   "outputs": [
    {
     "data": {
      "image/png": "[encoded data removed]",
      "text/plain": [
       "<Figure size 432x288 with 1 Axes>"
      ]
     },
     "metadata": {},
     "output_type": "display_data"
    }
   ],
   "source": [
    "# turnover_A Vs turnover_B Plot\n",
    "\n",
    "sns.boxplot(data=df_subset[['turnover_A', 'turnover_B']]) # Boxplot for columns turnover_A and turnover_B\n",
    "plt.title('Boxplots of Turnover_A and Turnover_B', fontdict={'fontsize':60, 'fontsize':15, 'color':'Brown'}) # Plot's title\n",
    "plt.xlabel('Turnover', fontdict={'fontsize':50, 'fontsize':15, 'color':'Green'})\n",
    "plt.ylabel('Frequency', fontdict={'fontsize':50, 'fontsize':15, 'color':'Green'})\n",
    "plt.show()"
   ]
  },
  {
   "cell_type": "markdown",
   "id": "a1af592c",
   "metadata": {},
   "source": [
    "#### Inference:\n",
    "\n",
    "- The boxplot of 'Turnover_A' and 'Turnover_B' shows that there are more customers who have bought Product B and has the higher Turnover than Product A.\n",
    "- The boxplot also shows a few outliers in both the turnovers A and B, which could be further investigated."
   ]
  },
  {
   "cell_type": "markdown",
   "id": "3e653248",
   "metadata": {},
   "source": [
    "## Preliminary Conclusions:\n",
    "\n",
    "    Based on our EDA, we can make some preliminary conclusions about the columns in our subset.\n",
    "\n",
    "- The median age for a customer buying a new product is 40, so age seems to be a strong predictor for a customer to likely purchase an additional product.\n",
    "- For the Type_A and Type_B, product type '0' is another predictor which suggests that customers are likely to buy this product type coampred to the other product types.\n",
    "- Customers who have been associated with the company for a shorter duration are more likely to buy the new product\n",
    "- The Turnover_A & Turnover_B do not show seem to be promising predictor columns, yet they do show some potential patterns worth exploring further"
   ]
  },
  {
   "cell_type": "markdown",
   "id": "791a3fce",
   "metadata": {},
   "source": [
    "### Creating dummy variables for Type_A and Type_B"
   ]
  },
  {
   "cell_type": "code",
   "execution_count": 20,
   "id": "c299bf1a",
   "metadata": {},
   "outputs": [],
   "source": [
    "# Creating dummies for 'type_A', 'type_B' columns\n",
    "\n",
    "df_subset = pd.get_dummies(df_subset, columns=['type_A', 'type_B'], drop_first=True) "
   ]
  },
  {
   "cell_type": "code",
   "execution_count": 21,
   "id": "a64cdc7f",
   "metadata": {},
   "outputs": [
    {
     "data": {
      "text/html": [
       "<div>\n",
       "<style scoped>\n",
       "    .dataframe tbody tr th:only-of-type {\n",
       "        vertical-align: middle;\n",
       "    }\n",
       "\n",
       "    .dataframe tbody tr th {\n",
       "        vertical-align: top;\n",
       "    }\n",
       "\n",
       "    .dataframe thead th {\n",
       "        text-align: right;\n",
       "    }\n",
       "</style>\n",
       "<table border=\"1\" class=\"dataframe\">\n",
       "  <thead>\n",
       "    <tr style=\"text-align: right;\">\n",
       "      <th></th>\n",
       "      <th>TARGET</th>\n",
       "      <th>age</th>\n",
       "      <th>lor_M</th>\n",
       "      <th>turnover_A</th>\n",
       "      <th>turnover_B</th>\n",
       "      <th>type_A_3</th>\n",
       "      <th>type_A_6</th>\n",
       "      <th>type_B_3</th>\n",
       "      <th>type_B_6</th>\n",
       "      <th>type_B_9</th>\n",
       "    </tr>\n",
       "  </thead>\n",
       "  <tbody>\n",
       "    <tr>\n",
       "      <th>0</th>\n",
       "      <td>1</td>\n",
       "      <td>66</td>\n",
       "      <td>3</td>\n",
       "      <td>333.561114</td>\n",
       "      <td>264.721010</td>\n",
       "      <td>0</td>\n",
       "      <td>0</td>\n",
       "      <td>0</td>\n",
       "      <td>0</td>\n",
       "      <td>0</td>\n",
       "    </tr>\n",
       "    <tr>\n",
       "      <th>1</th>\n",
       "      <td>1</td>\n",
       "      <td>45</td>\n",
       "      <td>39</td>\n",
       "      <td>394.735699</td>\n",
       "      <td>284.904978</td>\n",
       "      <td>1</td>\n",
       "      <td>0</td>\n",
       "      <td>1</td>\n",
       "      <td>0</td>\n",
       "      <td>0</td>\n",
       "    </tr>\n",
       "    <tr>\n",
       "      <th>2</th>\n",
       "      <td>1</td>\n",
       "      <td>42</td>\n",
       "      <td>27</td>\n",
       "      <td>342.180990</td>\n",
       "      <td>1175.589721</td>\n",
       "      <td>1</td>\n",
       "      <td>0</td>\n",
       "      <td>0</td>\n",
       "      <td>1</td>\n",
       "      <td>0</td>\n",
       "    </tr>\n",
       "    <tr>\n",
       "      <th>3</th>\n",
       "      <td>1</td>\n",
       "      <td>31</td>\n",
       "      <td>3</td>\n",
       "      <td>453.757916</td>\n",
       "      <td>242.341754</td>\n",
       "      <td>0</td>\n",
       "      <td>0</td>\n",
       "      <td>0</td>\n",
       "      <td>0</td>\n",
       "      <td>0</td>\n",
       "    </tr>\n",
       "    <tr>\n",
       "      <th>4</th>\n",
       "      <td>1</td>\n",
       "      <td>62</td>\n",
       "      <td>3</td>\n",
       "      <td>384.577469</td>\n",
       "      <td>287.008370</td>\n",
       "      <td>0</td>\n",
       "      <td>0</td>\n",
       "      <td>0</td>\n",
       "      <td>0</td>\n",
       "      <td>0</td>\n",
       "    </tr>\n",
       "  </tbody>\n",
       "</table>\n",
       "</div>"
      ],
      "text/plain": [
       "   TARGET  age  lor_M  turnover_A   turnover_B  type_A_3  type_A_6  type_B_3  type_B_6  type_B_9\n",
       "0       1   66      3  333.561114   264.721010         0         0         0         0         0\n",
       "1       1   45     39  394.735699   284.904978         1         0         1         0         0\n",
       "2       1   42     27  342.180990  1175.589721         1         0         0         1         0\n",
       "3       1   31      3  453.757916   242.341754         0         0         0         0         0\n",
       "4       1   62      3  384.577469   287.008370         0         0         0         0         0"
      ]
     },
     "execution_count": 21,
     "metadata": {},
     "output_type": "execute_result"
    }
   ],
   "source": [
    "# Checking the dataframe with dummies\n",
    "\n",
    "df_subset.head()"
   ]
  },
  {
   "cell_type": "markdown",
   "id": "e90d2b7b",
   "metadata": {},
   "source": [
    "### Phase-II: Building Predictive Model"
   ]
  },
  {
   "cell_type": "code",
   "execution_count": 22,
   "id": "5d2c9fe8",
   "metadata": {},
   "outputs": [],
   "source": [
    "# Defining target & predictor variables\n",
    "\n",
    "X = df_subset.drop('TARGET', axis=1) # Dropping the dependent variable from 'X' to only have independent variables\n",
    "\n",
    "y = df_subset['TARGET'] # Assigning dependent variable to 'y'"
   ]
  },
  {
   "cell_type": "code",
   "execution_count": 23,
   "id": "03e3a708",
   "metadata": {},
   "outputs": [],
   "source": [
    "# Splitting data into train & test sets\n",
    "\n",
    "X_train, X_test, y_train, y_test = train_test_split(X, y, test_size=0.3, random_state=1)"
   ]
  },
  {
   "cell_type": "code",
   "execution_count": 24,
   "id": "93e0995c",
   "metadata": {},
   "outputs": [],
   "source": [
    "# Fitting the data into the model\n",
    "\n",
    "logreg = LogisticRegression() # Creates an instance of the LogisticRegression class and assigns it to a variable called \"logreg\"\n",
    "\n",
    "from sklearn.feature_selection import RFE # Importing RFE class from scikit-learn (sklearn) library's feature_selection module\n",
    "\n",
    "rfe = RFE(estimator = logreg, n_features_to_select = 6)  # Running RFE to choose 6 variables as output\n",
    "\n",
    "rfe = rfe.fit(X_train, y_train)  # 'Eliminating the least important features "
   ]
  },
  {
   "cell_type": "code",
   "execution_count": 25,
   "id": "caf85a2f",
   "metadata": {},
   "outputs": [
    {
     "data": {
      "text/plain": [
       "['age', 'type_A_3', 'type_A_6', 'type_B_3', 'type_B_6', 'type_B_9']"
      ]
     },
     "execution_count": 25,
     "metadata": {},
     "output_type": "execute_result"
    }
   ],
   "source": [
    "top_6 = list(X_train.columns[rfe.support_]) # To get the 6 features selected using RFE\n",
    "\n",
    "top_6 # Displaying top 6 features\n",
    "\n",
    "# These are the top 6 predictor columns that have a chance of predicting whether or not customer is likely to purchase an additional product."
   ]
  },
  {
   "cell_type": "code",
   "execution_count": 26,
   "id": "50c95336",
   "metadata": {},
   "outputs": [
    {
     "data": {
      "text/plain": [
       "['lor_M', 'turnover_A', 'turnover_B']"
      ]
     },
     "execution_count": 26,
     "metadata": {},
     "output_type": "execute_result"
    }
   ],
   "source": [
    "# Features not chosen by RFE\n",
    "\n",
    "list(X_train.columns[~rfe.support_])"
   ]
  },
  {
   "cell_type": "code",
   "execution_count": 27,
   "id": "6f83bba2",
   "metadata": {},
   "outputs": [],
   "source": [
    " # Selecting 6 features from the X_train DataFrame and creating a new DataFrame containing only those columns i.e., X_train_top_cols\n",
    "\n",
    "X_train_top_cols = X_train[top_6]"
   ]
  },
  {
   "cell_type": "code",
   "execution_count": 28,
   "id": "febb2674",
   "metadata": {},
   "outputs": [
    {
     "name": "stdout",
     "output_type": "stream",
     "text": [
      "Optimization terminated successfully.\n",
      "         Current function value: 0.582697\n",
      "         Iterations 6\n",
      "                           Logit Regression Results                           \n",
      "==============================================================================\n",
      "Dep. Variable:                 TARGET   No. Observations:                 9811\n",
      "Model:                          Logit   Df Residuals:                     9804\n",
      "Method:                           MLE   Df Model:                            6\n",
      "Date:                Sun, 30 Apr 2023   Pseudo R-squ.:                  0.1476\n",
      "Time:                        21:49:11   Log-Likelihood:                -5716.8\n",
      "converged:                       True   LL-Null:                       -6707.2\n",
      "Covariance Type:            nonrobust   LLR p-value:                     0.000\n",
      "==============================================================================\n",
      "                 coef    std err          z      P>|z|      [0.025      0.975]\n",
      "------------------------------------------------------------------------------\n",
      "const         -1.2013      0.076    -15.842      0.000      -1.350      -1.053\n",
      "age            0.0502      0.002     25.444      0.000       0.046       0.054\n",
      "type_A_3       0.1585      0.095      1.669      0.095      -0.028       0.345\n",
      "type_A_6       2.6748      0.480      5.573      0.000       1.734       3.615\n",
      "type_B_3      -1.5682      0.096    -16.307      0.000      -1.757      -1.380\n",
      "type_B_6      -3.3882      0.199    -17.025      0.000      -3.778      -2.998\n",
      "type_B_9      -3.7873      0.761     -4.977      0.000      -5.279      -2.296\n",
      "==============================================================================\n"
     ]
    }
   ],
   "source": [
    "# Building the 1st logistic regression model\n",
    "\n",
    "import statsmodels.api as sm # Importing sm from statsmodels library\n",
    "\n",
    "X_train_logmod_1 = sm.add_constant(X_train_top_cols) # Adding a constant column of ones to the left-hand side of the X_train_top_cols'\n",
    "\n",
    "logreg_1 = sm.Logit(y_train,X_train_logmod_1).fit() # Fitting logistic regression model to the training data\n",
    "\n",
    "print(logreg_1.summary()) # Printing the summary of the results"
   ]
  },
  {
   "cell_type": "code",
   "execution_count": 29,
   "id": "8d844c32",
   "metadata": {},
   "outputs": [],
   "source": [
    "# type_A_3 has the highest P-value, hence dropping it\n",
    "\n",
    "X_train_top_cols1 = X_train_top_cols.drop(['type_A_3'], axis = 1)"
   ]
  },
  {
   "cell_type": "code",
   "execution_count": 30,
   "id": "2a93fa2d",
   "metadata": {},
   "outputs": [
    {
     "name": "stdout",
     "output_type": "stream",
     "text": [
      "Optimization terminated successfully.\n",
      "         Current function value: 0.582841\n",
      "         Iterations 6\n",
      "                           Logit Regression Results                           \n",
      "==============================================================================\n",
      "Dep. Variable:                 TARGET   No. Observations:                 9811\n",
      "Model:                          Logit   Df Residuals:                     9805\n",
      "Method:                           MLE   Df Model:                            5\n",
      "Date:                Sun, 30 Apr 2023   Pseudo R-squ.:                  0.1474\n",
      "Time:                        21:49:12   Log-Likelihood:                -5718.3\n",
      "converged:                       True   LL-Null:                       -6707.2\n",
      "Covariance Type:            nonrobust   LLR p-value:                     0.000\n",
      "==============================================================================\n",
      "                 coef    std err          z      P>|z|      [0.025      0.975]\n",
      "------------------------------------------------------------------------------\n",
      "const         -1.1764      0.074    -15.828      0.000      -1.322      -1.031\n",
      "age            0.0494      0.002     25.742      0.000       0.046       0.053\n",
      "type_A_6       2.5143      0.469      5.355      0.000       1.594       3.435\n",
      "type_B_3      -1.4278      0.046    -30.847      0.000      -1.519      -1.337\n",
      "type_B_6      -3.2263      0.173    -18.621      0.000      -3.566      -2.887\n",
      "type_B_9      -3.6597      0.757     -4.834      0.000      -5.144      -2.176\n",
      "==============================================================================\n"
     ]
    }
   ],
   "source": [
    "# 2nd logistic regression model\n",
    "\n",
    "X_train_logmod_2 = sm.add_constant(X_train_top_cols1) # Adding a constant column of ones to the left-hand side of the X_train_top_cols'\n",
    "\n",
    "logreg_2 = sm.Logit(y_train,X_train_logmod_2).fit() # Fitting logistic regression model to the training data\n",
    "\n",
    "print(logreg_2.summary()) # Printing the summary of the results"
   ]
  },
  {
   "cell_type": "code",
   "execution_count": 31,
   "id": "8daaf91f",
   "metadata": {},
   "outputs": [
    {
     "name": "stdout",
     "output_type": "stream",
     "text": [
      "1st regression current function value is: -5716.844288795049\n",
      "2nd regression current function value is: -5718.251785879054\n"
     ]
    }
   ],
   "source": [
    "print('1st regression current function value is:', logreg_1.llf)\n",
    "\n",
    "print('2nd regression current function value is:', logreg_2.llf)"
   ]
  },
  {
   "cell_type": "markdown",
   "id": "18ce6efe",
   "metadata": {},
   "source": [
    "### The above models don't differ much, hence going with the 1st model to test\n",
    "\n"
   ]
  },
  {
   "cell_type": "code",
   "execution_count": 32,
   "id": "30879a71",
   "metadata": {},
   "outputs": [
    {
     "data": {
      "text/plain": [
       "0.7063020214030915"
      ]
     },
     "execution_count": 32,
     "metadata": {},
     "output_type": "execute_result"
    }
   ],
   "source": [
    "from sklearn.metrics import accuracy_score # Importing accuracy metric from sklearn library\n",
    "\n",
    "y_pred = logreg_1.predict(sm.add_constant(X_test[top_6]))\n",
    "\n",
    "accuracy = accuracy_score(y_test, y_pred.round()) # Accuracy of the model\n",
    "\n",
    "accuracy # Printing the accuracy"
   ]
  },
  {
   "cell_type": "code",
   "execution_count": 33,
   "id": "efd809dc",
   "metadata": {},
   "outputs": [
    {
     "name": "stdout",
     "output_type": "stream",
     "text": [
      "Precision value is: 0.6672738312082575\n",
      "Recall value is: 0.6153415453527435\n"
     ]
    }
   ],
   "source": [
    "from sklearn.metrics import precision_score, recall_score # Importing precision, recall metrics from sklearn library\n",
    "\n",
    "precision = precision_score(y_test, y_pred.round()) # Calculating precision for the model\n",
    "\n",
    "recall = recall_score(y_test, y_pred.round()) # Calculating recall for the model\n",
    "\n",
    "print('Precision value is:', precision) # Printing precision score\n",
    "\n",
    "print('Recall value is:', recall) # Printing recall score"
   ]
  },
  {
   "cell_type": "code",
   "execution_count": 34,
   "id": "fc1db623",
   "metadata": {},
   "outputs": [
    {
     "name": "stdout",
     "output_type": "stream",
     "text": [
      "f1 score is: 0.6402563355665599\n"
     ]
    }
   ],
   "source": [
    "from sklearn.metrics import f1_score # Importing f1 metric from sklearn library\n",
    "\n",
    "f1 = f1_score(y_test, y_pred.round()) # Calculating f1 score for the model\n",
    "\n",
    "print('f1 score is:', f1) # Printing f1 score"
   ]
  },
  {
   "cell_type": "code",
   "execution_count": 35,
   "id": "74ca9f8d",
   "metadata": {},
   "outputs": [
    {
     "name": "stdout",
     "output_type": "stream",
     "text": [
      "ROC of the model is: 0.7607448868536553\n"
     ]
    }
   ],
   "source": [
    "from sklearn.metrics import roc_auc_score # Importing roc metric from sklearn library\n",
    "\n",
    "roc_auc = roc_auc_score(y_test, y_pred) # Calculating ROC score for the model\n",
    "\n",
    "print('ROC of the model is:', roc_auc) # Printing ROC score for the model"
   ]
  },
  {
   "cell_type": "code",
   "execution_count": 36,
   "id": "b7ccf198",
   "metadata": {},
   "outputs": [
    {
     "data": {
      "image/png": "[encoded data removed]",
      "text/plain": [
       "<Figure size 432x288 with 1 Axes>"
      ]
     },
     "metadata": {},
     "output_type": "display_data"
    }
   ],
   "source": [
    "from sklearn.metrics import roc_curve, roc_auc_score  # Importing required libraries\n",
    "\n",
    "# Assuming y_test and y_pred are the true labels and predicted probabilities, respectively\n",
    "\n",
    "fpr, tpr, thresholds = roc_curve(y_test, y_pred)  # Calculating false positive rate, true positive rate, and thresholds using roc_curve function\n",
    "\n",
    "roc_auc = roc_auc_score(y_test, y_pred)  # Calculating ROC AUC score using roc_auc_score function\n",
    "\n",
    "# Plot ROC curve\n",
    "\n",
    "plt.plot(fpr, tpr, label='ROC curve (area = %0.2f)' % roc_auc)  # Plotting ROC curve using plot function with ROC AUC score included in legend\n",
    "plt.plot([0, 1], [0, 1], '--', color='gray', label='Random guessing')  # Plotting line for random guessing (i.e., no discriminative power)\n",
    "plt.xlabel('False Positive Rate')  # Setting label for x-axis\n",
    "plt.ylabel('True Positive Rate')  # Setting label for y-axis\n",
    "plt.title('Receiver Operating Characteristic (ROC) Curve')  # Setting title for plot\n",
    "plt.legend(loc=\"lower right\")  # Adding legend to plot\n",
    "plt.show()  # Displaying plot"
   ]
  },
  {
   "cell_type": "code",
   "execution_count": 37,
   "id": "d54ff1fd",
   "metadata": {},
   "outputs": [
    {
     "data": {
      "text/plain": [
       "Text(0, 0.5, 'y_pred')"
      ]
     },
     "execution_count": 37,
     "metadata": {},
     "output_type": "execute_result"
    },
    {
     "data": {
      "image/png": "[encoded data removed]",
      "text/plain": [
       "<Figure size 432x288 with 1 Axes>"
      ]
     },
     "metadata": {},
     "output_type": "display_data"
    }
   ],
   "source": [
    "# Evaluating the model\n",
    "\n",
    "fig = plt.figure()\n",
    "\n",
    "sns.boxplot(y_test, y_pred)  # Boxplot plot\n",
    "\n",
    "fig.suptitle('y_test vs y_pred', fontsize = 25)  # Plot title & size\n",
    "\n",
    "plt.xlabel('y_test', fontsize = 20)  # X axis/label name & size\n",
    "\n",
    "plt.ylabel('y_pred', fontsize = 20) # Y axis/label name & size"
   ]
  },
  {
   "cell_type": "markdown",
   "id": "5948ad84",
   "metadata": {},
   "source": [
    "#### Model conclusion:\n",
    "\n",
    "- The model accuracy score of '0.70' indicates a good model.\n",
    "- Also, the precision & recall scores of 0.66 & 0.61 respectively.\n",
    "- The ROC is 0.76 which is high that means the model is better at distinguishing between the two classes.\n",
    "- This indicates that the model is able to accurately predict the target variable and that there is a strong linear relationship between the target variable and the input features."
   ]
  },
  {
   "cell_type": "markdown",
   "id": "265c98fe",
   "metadata": {},
   "source": [
    "### Final Conclusion:\n",
    "\n",
    "Based on the logistic regression model-1 generated and their coefficients, the variable 'age' has '0.050' coefficient which suggests that age has the greatest impact on whether a customer is likely to purchase an additional product, followed by the variable 'type_A_3' which has coefficient of '0.158'. The coefficients for the other variables vary a lot, indicating that they have less impact on the target variable. However, the dummy variables for Type_B have negative coefficients, suggesting that customers who previously purchased those products are less likely to purchase the new product.\n",
    "\n",
    "Overall, our logistic regression model-1 suggests that age is the most important variable in predicting whether a customer is likely to purchase an additional product, followed by type_A_3 & then type_A_6."
   ]
  },
  {
   "cell_type": "markdown",
   "id": "2b4fca29",
   "metadata": {},
   "source": [
    "### Recommendations:\n",
    "\n",
    "- The company should target specific age groups in order to retain the customers & increase sales.\n",
    "- The company should concentrate more on customers buying product types type_A_3 & type_A_6 who have a higher chance of buying another product when compared with customers who bought other product types.\n",
    "- The company should definitely not consider factors such as the tenurity of a customer with the company, amount of money spent by a customer on product A or B as these can affect ustomer retention and sales."
   ]
  }
 ],
 "metadata": {
  "kernelspec": {
   "display_name": "Python 3 (ipykernel)",
   "language": "python",
   "name": "python3"
  },
  "language_info": {
   "codemirror_mode": {
    "name": "ipython",
    "version": 3
   },
   "file_extension": ".py",
   "mimetype": "text/x-python",
   "name": "python",
   "nbconvert_exporter": "python",
   "pygments_lexer": "ipython3",
   "version": "3.9.13"
  }
 },
 "nbformat": 4,
 "nbformat_minor": 5
}
